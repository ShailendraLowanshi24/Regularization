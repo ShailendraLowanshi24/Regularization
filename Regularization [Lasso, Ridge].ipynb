{
 "cells": [
  {
   "cell_type": "code",
   "execution_count": 1,
   "metadata": {},
   "outputs": [],
   "source": [
    "import pandas as pd\n",
    "A = pd.read_csv(\"C:/Users/Baccchi/Downloads/Cars93.csv\")"
   ]
  },
  {
   "cell_type": "code",
   "execution_count": 2,
   "metadata": {},
   "outputs": [
    {
     "data": {
      "text/html": [
       "<div>\n",
       "<style scoped>\n",
       "    .dataframe tbody tr th:only-of-type {\n",
       "        vertical-align: middle;\n",
       "    }\n",
       "\n",
       "    .dataframe tbody tr th {\n",
       "        vertical-align: top;\n",
       "    }\n",
       "\n",
       "    .dataframe thead th {\n",
       "        text-align: right;\n",
       "    }\n",
       "</style>\n",
       "<table border=\"1\" class=\"dataframe\">\n",
       "  <thead>\n",
       "    <tr style=\"text-align: right;\">\n",
       "      <th></th>\n",
       "      <th>Unnamed: 0</th>\n",
       "      <th>Manufacturer</th>\n",
       "      <th>Model</th>\n",
       "      <th>Type</th>\n",
       "      <th>Min.Price</th>\n",
       "      <th>Price</th>\n",
       "      <th>Max.Price</th>\n",
       "      <th>MPG.city</th>\n",
       "      <th>MPG.highway</th>\n",
       "      <th>AirBags</th>\n",
       "      <th>...</th>\n",
       "      <th>Passengers</th>\n",
       "      <th>Length</th>\n",
       "      <th>Wheelbase</th>\n",
       "      <th>Width</th>\n",
       "      <th>Turn.circle</th>\n",
       "      <th>Rear.seat.room</th>\n",
       "      <th>Luggage.room</th>\n",
       "      <th>Weight</th>\n",
       "      <th>Origin</th>\n",
       "      <th>Make</th>\n",
       "    </tr>\n",
       "  </thead>\n",
       "  <tbody>\n",
       "    <tr>\n",
       "      <th>0</th>\n",
       "      <td>1</td>\n",
       "      <td>Acura</td>\n",
       "      <td>Integra</td>\n",
       "      <td>Small</td>\n",
       "      <td>12.9</td>\n",
       "      <td>15.9</td>\n",
       "      <td>18.8</td>\n",
       "      <td>25</td>\n",
       "      <td>31</td>\n",
       "      <td>None</td>\n",
       "      <td>...</td>\n",
       "      <td>5</td>\n",
       "      <td>177</td>\n",
       "      <td>102</td>\n",
       "      <td>68</td>\n",
       "      <td>37</td>\n",
       "      <td>26.5</td>\n",
       "      <td>11.0</td>\n",
       "      <td>2705</td>\n",
       "      <td>non-USA</td>\n",
       "      <td>Acura Integra</td>\n",
       "    </tr>\n",
       "    <tr>\n",
       "      <th>1</th>\n",
       "      <td>2</td>\n",
       "      <td>Acura</td>\n",
       "      <td>Legend</td>\n",
       "      <td>Midsize</td>\n",
       "      <td>29.2</td>\n",
       "      <td>33.9</td>\n",
       "      <td>38.7</td>\n",
       "      <td>18</td>\n",
       "      <td>25</td>\n",
       "      <td>Driver &amp; Passenger</td>\n",
       "      <td>...</td>\n",
       "      <td>5</td>\n",
       "      <td>195</td>\n",
       "      <td>115</td>\n",
       "      <td>71</td>\n",
       "      <td>38</td>\n",
       "      <td>30.0</td>\n",
       "      <td>15.0</td>\n",
       "      <td>3560</td>\n",
       "      <td>non-USA</td>\n",
       "      <td>Acura Legend</td>\n",
       "    </tr>\n",
       "  </tbody>\n",
       "</table>\n",
       "<p>2 rows × 28 columns</p>\n",
       "</div>"
      ],
      "text/plain": [
       "   Unnamed: 0 Manufacturer    Model     Type  Min.Price  Price  Max.Price  \\\n",
       "0           1        Acura  Integra    Small       12.9   15.9       18.8   \n",
       "1           2        Acura   Legend  Midsize       29.2   33.9       38.7   \n",
       "\n",
       "   MPG.city  MPG.highway             AirBags  ... Passengers Length  \\\n",
       "0        25           31                None  ...          5    177   \n",
       "1        18           25  Driver & Passenger  ...          5    195   \n",
       "\n",
       "   Wheelbase  Width  Turn.circle  Rear.seat.room Luggage.room  Weight  \\\n",
       "0        102     68           37            26.5         11.0    2705   \n",
       "1        115     71           38            30.0         15.0    3560   \n",
       "\n",
       "    Origin           Make  \n",
       "0  non-USA  Acura Integra  \n",
       "1  non-USA   Acura Legend  \n",
       "\n",
       "[2 rows x 28 columns]"
      ]
     },
     "execution_count": 2,
     "metadata": {},
     "output_type": "execute_result"
    }
   ],
   "source": [
    "A.head(2)"
   ]
  },
  {
   "cell_type": "code",
   "execution_count": 3,
   "metadata": {},
   "outputs": [],
   "source": [
    "Y = A[[\"Weight\"]]"
   ]
  },
  {
   "cell_type": "code",
   "execution_count": 4,
   "metadata": {},
   "outputs": [
    {
     "data": {
      "text/html": [
       "<div>\n",
       "<style scoped>\n",
       "    .dataframe tbody tr th:only-of-type {\n",
       "        vertical-align: middle;\n",
       "    }\n",
       "\n",
       "    .dataframe tbody tr th {\n",
       "        vertical-align: top;\n",
       "    }\n",
       "\n",
       "    .dataframe thead th {\n",
       "        text-align: right;\n",
       "    }\n",
       "</style>\n",
       "<table border=\"1\" class=\"dataframe\">\n",
       "  <thead>\n",
       "    <tr style=\"text-align: right;\">\n",
       "      <th></th>\n",
       "      <th>Weight</th>\n",
       "    </tr>\n",
       "  </thead>\n",
       "  <tbody>\n",
       "    <tr>\n",
       "      <th>MPG.city</th>\n",
       "      <td>-0.843139</td>\n",
       "    </tr>\n",
       "    <tr>\n",
       "      <th>MPG.highway</th>\n",
       "      <td>-0.810658</td>\n",
       "    </tr>\n",
       "    <tr>\n",
       "      <th>Rev.per.mile</th>\n",
       "      <td>-0.735264</td>\n",
       "    </tr>\n",
       "    <tr>\n",
       "      <th>RPM</th>\n",
       "      <td>-0.427931</td>\n",
       "    </tr>\n",
       "    <tr>\n",
       "      <th>Unnamed: 0</th>\n",
       "      <td>-0.220525</td>\n",
       "    </tr>\n",
       "    <tr>\n",
       "      <th>Rear.seat.room</th>\n",
       "      <td>0.526250</td>\n",
       "    </tr>\n",
       "    <tr>\n",
       "      <th>Passengers</th>\n",
       "      <td>0.553273</td>\n",
       "    </tr>\n",
       "    <tr>\n",
       "      <th>Max.Price</th>\n",
       "      <td>0.605142</td>\n",
       "    </tr>\n",
       "    <tr>\n",
       "      <th>Luggage.room</th>\n",
       "      <td>0.637226</td>\n",
       "    </tr>\n",
       "    <tr>\n",
       "      <th>Price</th>\n",
       "      <td>0.647179</td>\n",
       "    </tr>\n",
       "    <tr>\n",
       "      <th>Min.Price</th>\n",
       "      <td>0.666554</td>\n",
       "    </tr>\n",
       "    <tr>\n",
       "      <th>Horsepower</th>\n",
       "      <td>0.738798</td>\n",
       "    </tr>\n",
       "    <tr>\n",
       "      <th>Turn.circle</th>\n",
       "      <td>0.778043</td>\n",
       "    </tr>\n",
       "    <tr>\n",
       "      <th>Length</th>\n",
       "      <td>0.806274</td>\n",
       "    </tr>\n",
       "    <tr>\n",
       "      <th>EngineSize</th>\n",
       "      <td>0.845075</td>\n",
       "    </tr>\n",
       "    <tr>\n",
       "      <th>Wheelbase</th>\n",
       "      <td>0.871895</td>\n",
       "    </tr>\n",
       "    <tr>\n",
       "      <th>Width</th>\n",
       "      <td>0.874961</td>\n",
       "    </tr>\n",
       "    <tr>\n",
       "      <th>Fuel.tank.capacity</th>\n",
       "      <td>0.894018</td>\n",
       "    </tr>\n",
       "    <tr>\n",
       "      <th>Weight</th>\n",
       "      <td>1.000000</td>\n",
       "    </tr>\n",
       "  </tbody>\n",
       "</table>\n",
       "</div>"
      ],
      "text/plain": [
       "                      Weight\n",
       "MPG.city           -0.843139\n",
       "MPG.highway        -0.810658\n",
       "Rev.per.mile       -0.735264\n",
       "RPM                -0.427931\n",
       "Unnamed: 0         -0.220525\n",
       "Rear.seat.room      0.526250\n",
       "Passengers          0.553273\n",
       "Max.Price           0.605142\n",
       "Luggage.room        0.637226\n",
       "Price               0.647179\n",
       "Min.Price           0.666554\n",
       "Horsepower          0.738798\n",
       "Turn.circle         0.778043\n",
       "Length              0.806274\n",
       "EngineSize          0.845075\n",
       "Wheelbase           0.871895\n",
       "Width               0.874961\n",
       "Fuel.tank.capacity  0.894018\n",
       "Weight              1.000000"
      ]
     },
     "execution_count": 4,
     "metadata": {},
     "output_type": "execute_result"
    }
   ],
   "source": [
    "A.corr()[[\"Weight\"]].sort_values(by=\"Weight\")"
   ]
  },
  {
   "cell_type": "code",
   "execution_count": 6,
   "metadata": {},
   "outputs": [],
   "source": [
    "X = A[[\"Fuel.tank.capacity\",\"Width\",\"Wheelbase\",\"EngineSize\",\"Length\",\"Turn.circle\",\"MPG.city\"]]"
   ]
  },
  {
   "cell_type": "code",
   "execution_count": 7,
   "metadata": {},
   "outputs": [
    {
     "data": {
      "text/html": [
       "<div>\n",
       "<style scoped>\n",
       "    .dataframe tbody tr th:only-of-type {\n",
       "        vertical-align: middle;\n",
       "    }\n",
       "\n",
       "    .dataframe tbody tr th {\n",
       "        vertical-align: top;\n",
       "    }\n",
       "\n",
       "    .dataframe thead th {\n",
       "        text-align: right;\n",
       "    }\n",
       "</style>\n",
       "<table border=\"1\" class=\"dataframe\">\n",
       "  <thead>\n",
       "    <tr style=\"text-align: right;\">\n",
       "      <th></th>\n",
       "      <th>Fuel.tank.capacity</th>\n",
       "      <th>Width</th>\n",
       "      <th>Wheelbase</th>\n",
       "      <th>EngineSize</th>\n",
       "      <th>Length</th>\n",
       "      <th>Turn.circle</th>\n",
       "      <th>MPG.city</th>\n",
       "    </tr>\n",
       "  </thead>\n",
       "  <tbody>\n",
       "    <tr>\n",
       "      <th>Fuel.tank.capacity</th>\n",
       "      <td>1.000000</td>\n",
       "      <td>0.798719</td>\n",
       "      <td>0.757674</td>\n",
       "      <td>0.759306</td>\n",
       "      <td>0.690461</td>\n",
       "      <td>0.671343</td>\n",
       "      <td>-0.813144</td>\n",
       "    </tr>\n",
       "    <tr>\n",
       "      <th>Width</th>\n",
       "      <td>0.798719</td>\n",
       "      <td>1.000000</td>\n",
       "      <td>0.807213</td>\n",
       "      <td>0.867110</td>\n",
       "      <td>0.822148</td>\n",
       "      <td>0.817854</td>\n",
       "      <td>-0.720534</td>\n",
       "    </tr>\n",
       "    <tr>\n",
       "      <th>Wheelbase</th>\n",
       "      <td>0.757674</td>\n",
       "      <td>0.807213</td>\n",
       "      <td>1.000000</td>\n",
       "      <td>0.732484</td>\n",
       "      <td>0.823650</td>\n",
       "      <td>0.723324</td>\n",
       "      <td>-0.667108</td>\n",
       "    </tr>\n",
       "    <tr>\n",
       "      <th>EngineSize</th>\n",
       "      <td>0.759306</td>\n",
       "      <td>0.867110</td>\n",
       "      <td>0.732484</td>\n",
       "      <td>1.000000</td>\n",
       "      <td>0.780283</td>\n",
       "      <td>0.778464</td>\n",
       "      <td>-0.710003</td>\n",
       "    </tr>\n",
       "    <tr>\n",
       "      <th>Length</th>\n",
       "      <td>0.690461</td>\n",
       "      <td>0.822148</td>\n",
       "      <td>0.823650</td>\n",
       "      <td>0.780283</td>\n",
       "      <td>1.000000</td>\n",
       "      <td>0.738955</td>\n",
       "      <td>-0.666239</td>\n",
       "    </tr>\n",
       "    <tr>\n",
       "      <th>Turn.circle</th>\n",
       "      <td>0.671343</td>\n",
       "      <td>0.817854</td>\n",
       "      <td>0.723324</td>\n",
       "      <td>0.778464</td>\n",
       "      <td>0.738955</td>\n",
       "      <td>1.000000</td>\n",
       "      <td>-0.666389</td>\n",
       "    </tr>\n",
       "    <tr>\n",
       "      <th>MPG.city</th>\n",
       "      <td>-0.813144</td>\n",
       "      <td>-0.720534</td>\n",
       "      <td>-0.667108</td>\n",
       "      <td>-0.710003</td>\n",
       "      <td>-0.666239</td>\n",
       "      <td>-0.666389</td>\n",
       "      <td>1.000000</td>\n",
       "    </tr>\n",
       "  </tbody>\n",
       "</table>\n",
       "</div>"
      ],
      "text/plain": [
       "                    Fuel.tank.capacity     Width  Wheelbase  EngineSize  \\\n",
       "Fuel.tank.capacity            1.000000  0.798719   0.757674    0.759306   \n",
       "Width                         0.798719  1.000000   0.807213    0.867110   \n",
       "Wheelbase                     0.757674  0.807213   1.000000    0.732484   \n",
       "EngineSize                    0.759306  0.867110   0.732484    1.000000   \n",
       "Length                        0.690461  0.822148   0.823650    0.780283   \n",
       "Turn.circle                   0.671343  0.817854   0.723324    0.778464   \n",
       "MPG.city                     -0.813144 -0.720534  -0.667108   -0.710003   \n",
       "\n",
       "                      Length  Turn.circle  MPG.city  \n",
       "Fuel.tank.capacity  0.690461     0.671343 -0.813144  \n",
       "Width               0.822148     0.817854 -0.720534  \n",
       "Wheelbase           0.823650     0.723324 -0.667108  \n",
       "EngineSize          0.780283     0.778464 -0.710003  \n",
       "Length              1.000000     0.738955 -0.666239  \n",
       "Turn.circle         0.738955     1.000000 -0.666389  \n",
       "MPG.city           -0.666239    -0.666389  1.000000  "
      ]
     },
     "execution_count": 7,
     "metadata": {},
     "output_type": "execute_result"
    }
   ],
   "source": [
    "X.corr()"
   ]
  },
  {
   "cell_type": "code",
   "execution_count": 8,
   "metadata": {},
   "outputs": [],
   "source": [
    "from sklearn.model_selection import train_test_split\n",
    "xtrain,xtest,ytrain,ytest=train_test_split(X,Y,test_size=0.2,random_state=30)"
   ]
  },
  {
   "cell_type": "code",
   "execution_count": 9,
   "metadata": {},
   "outputs": [
    {
     "name": "stderr",
     "output_type": "stream",
     "text": [
      "C:\\Users\\Baccchi\\anaconda3\\envs\\Machine_Learning_Class\\lib\\site-packages\\seaborn\\distributions.py:2557: FutureWarning: `distplot` is a deprecated function and will be removed in a future version. Please adapt your code to use either `displot` (a figure-level function with similar flexibility) or `histplot` (an axes-level function for histograms).\n",
      "  warnings.warn(msg, FutureWarning)\n",
      "C:\\Users\\Baccchi\\anaconda3\\envs\\Machine_Learning_Class\\lib\\site-packages\\seaborn\\distributions.py:2557: FutureWarning: `distplot` is a deprecated function and will be removed in a future version. Please adapt your code to use either `displot` (a figure-level function with similar flexibility) or `histplot` (an axes-level function for histograms).\n",
      "  warnings.warn(msg, FutureWarning)\n"
     ]
    },
    {
     "data": {
      "text/plain": [
       "<AxesSubplot:ylabel='Density'>"
      ]
     },
     "execution_count": 9,
     "metadata": {},
     "output_type": "execute_result"
    },
    {
     "data": {
      "image/png": "[encoded data removed]",
      "text/plain": [
       "<Figure size 432x288 with 1 Axes>"
      ]
     },
     "metadata": {
      "needs_background": "light"
     },
     "output_type": "display_data"
    }
   ],
   "source": [
    "import seaborn as sb\n",
    "sb.distplot(Y)\n",
    "sb.distplot(ytrain)"
   ]
  },
  {
   "cell_type": "markdown",
   "metadata": {},
   "source": [
    "# Ridge Regularization"
   ]
  },
  {
   "cell_type": "code",
   "execution_count": 10,
   "metadata": {},
   "outputs": [
    {
     "data": {
      "text/plain": [
       "118.98164218700242"
      ]
     },
     "execution_count": 10,
     "metadata": {},
     "output_type": "execute_result"
    }
   ],
   "source": [
    "from sklearn.linear_model import Ridge\n",
    "rr = Ridge()\n",
    "model = rr.fit(xtrain,ytrain)\n",
    "pred = model.predict(xtest)\n",
    "from sklearn.metrics import mean_absolute_error\n",
    "mean_absolute_error(ytest,pred)"
   ]
  },
  {
   "cell_type": "markdown",
   "metadata": {},
   "source": [
    "# Tuning Gird"
   ]
  },
  {
   "cell_type": "code",
   "execution_count": 15,
   "metadata": {},
   "outputs": [],
   "source": [
    "tuning_grid = []\n",
    "q = 0.999\n",
    "for i in range(0,100,1):\n",
    "    tuning_grid.append(q-0.0001)\n",
    "    q = q-0.001"
   ]
  },
  {
   "cell_type": "code",
   "execution_count": 16,
   "metadata": {},
   "outputs": [],
   "source": [
    "q = 0\n",
    "for i in range(0,100,1):\n",
    "    tuning_grid.append(q+0.0001)\n",
    "    q = q+0.001"
   ]
  },
  {
   "cell_type": "code",
   "execution_count": 23,
   "metadata": {},
   "outputs": [
    {
     "data": {
      "text/plain": [
       "[0.9989,\n",
       " 0.9979,\n",
       " 0.9969,\n",
       " 0.9959,\n",
       " 0.9949,\n",
       " 0.9939,\n",
       " 0.9929,\n",
       " 0.9919,\n",
       " 0.9909,\n",
       " 0.9899,\n",
       " 0.9889,\n",
       " 0.9879,\n",
       " 0.9869,\n",
       " 0.9859,\n",
       " 0.9849,\n",
       " 0.9839,\n",
       " 0.9829,\n",
       " 0.9819,\n",
       " 0.9809,\n",
       " 0.9799,\n",
       " 0.9789,\n",
       " 0.9779,\n",
       " 0.9769,\n",
       " 0.9759,\n",
       " 0.9749,\n",
       " 0.9739,\n",
       " 0.9729,\n",
       " 0.9719,\n",
       " 0.9709,\n",
       " 0.9699,\n",
       " 0.9689,\n",
       " 0.9679,\n",
       " 0.9669,\n",
       " 0.9659,\n",
       " 0.9649,\n",
       " 0.9639,\n",
       " 0.9629,\n",
       " 0.9619,\n",
       " 0.9609,\n",
       " 0.9599,\n",
       " 0.9589,\n",
       " 0.9579,\n",
       " 0.9569,\n",
       " 0.9559,\n",
       " 0.9549,\n",
       " 0.9539,\n",
       " 0.9529,\n",
       " 0.9519,\n",
       " 0.9509,\n",
       " 0.9499,\n",
       " 0.9489,\n",
       " 0.9479,\n",
       " 0.9469,\n",
       " 0.9459,\n",
       " 0.9449,\n",
       " 0.9439,\n",
       " 0.9429,\n",
       " 0.9419,\n",
       " 0.9409,\n",
       " 0.9399,\n",
       " 0.9389,\n",
       " 0.9379,\n",
       " 0.9369,\n",
       " 0.9359,\n",
       " 0.9349,\n",
       " 0.9339,\n",
       " 0.9329,\n",
       " 0.9319,\n",
       " 0.9309,\n",
       " 0.9299,\n",
       " 0.9289,\n",
       " 0.9279,\n",
       " 0.9269,\n",
       " 0.9259,\n",
       " 0.9248999999999999,\n",
       " 0.9238999999999999,\n",
       " 0.9228999999999999,\n",
       " 0.9218999999999999,\n",
       " 0.9208999999999999,\n",
       " 0.9198999999999999,\n",
       " 0.9188999999999999,\n",
       " 0.9178999999999999,\n",
       " 0.9168999999999999,\n",
       " 0.9158999999999999,\n",
       " 0.9148999999999999,\n",
       " 0.9138999999999999,\n",
       " 0.9128999999999999,\n",
       " 0.9118999999999999,\n",
       " 0.9108999999999999,\n",
       " 0.9098999999999999,\n",
       " 0.9088999999999999,\n",
       " 0.9078999999999999,\n",
       " 0.9068999999999999,\n",
       " 0.9058999999999999,\n",
       " 0.9048999999999999,\n",
       " 0.9038999999999999,\n",
       " 0.9028999999999999,\n",
       " 0.9018999999999999,\n",
       " 0.9008999999999999,\n",
       " 0.8998999999999999,\n",
       " 0.0001,\n",
       " 0.0011,\n",
       " 0.0021,\n",
       " 0.0031,\n",
       " 0.0041,\n",
       " 0.0051,\n",
       " 0.0061,\n",
       " 0.0071,\n",
       " 0.0081,\n",
       " 0.0091,\n",
       " 0.010100000000000001,\n",
       " 0.011100000000000002,\n",
       " 0.012100000000000003,\n",
       " 0.013100000000000004,\n",
       " 0.014100000000000005,\n",
       " 0.015100000000000006,\n",
       " 0.016100000000000007,\n",
       " 0.017100000000000008,\n",
       " 0.01810000000000001,\n",
       " 0.01910000000000001,\n",
       " 0.02010000000000001,\n",
       " 0.02110000000000001,\n",
       " 0.022100000000000012,\n",
       " 0.023100000000000013,\n",
       " 0.024100000000000014,\n",
       " 0.025100000000000015,\n",
       " 0.026100000000000016,\n",
       " 0.027100000000000016,\n",
       " 0.028100000000000017,\n",
       " 0.029100000000000018,\n",
       " 0.03010000000000002,\n",
       " 0.03110000000000002,\n",
       " 0.032100000000000024,\n",
       " 0.033100000000000025,\n",
       " 0.034100000000000026,\n",
       " 0.03510000000000003,\n",
       " 0.03610000000000003,\n",
       " 0.03710000000000003,\n",
       " 0.03810000000000003,\n",
       " 0.03910000000000003,\n",
       " 0.04010000000000003,\n",
       " 0.04110000000000003,\n",
       " 0.04210000000000003,\n",
       " 0.043100000000000034,\n",
       " 0.044100000000000035,\n",
       " 0.045100000000000036,\n",
       " 0.04610000000000004,\n",
       " 0.04710000000000004,\n",
       " 0.04810000000000004,\n",
       " 0.04910000000000004,\n",
       " 0.05010000000000004,\n",
       " 0.05110000000000004,\n",
       " 0.05210000000000004,\n",
       " 0.05310000000000004,\n",
       " 0.054100000000000044,\n",
       " 0.055100000000000045,\n",
       " 0.056100000000000046,\n",
       " 0.05710000000000005,\n",
       " 0.05810000000000005,\n",
       " 0.05910000000000005,\n",
       " 0.06010000000000005,\n",
       " 0.06110000000000005,\n",
       " 0.06210000000000005,\n",
       " 0.06310000000000004,\n",
       " 0.06410000000000005,\n",
       " 0.06510000000000005,\n",
       " 0.06610000000000005,\n",
       " 0.06710000000000005,\n",
       " 0.06810000000000005,\n",
       " 0.06910000000000005,\n",
       " 0.07010000000000005,\n",
       " 0.07110000000000005,\n",
       " 0.07210000000000005,\n",
       " 0.07310000000000005,\n",
       " 0.07410000000000005,\n",
       " 0.07510000000000006,\n",
       " 0.07610000000000006,\n",
       " 0.07710000000000006,\n",
       " 0.07810000000000006,\n",
       " 0.07910000000000006,\n",
       " 0.08010000000000006,\n",
       " 0.08110000000000006,\n",
       " 0.08210000000000006,\n",
       " 0.08310000000000006,\n",
       " 0.08410000000000006,\n",
       " 0.08510000000000006,\n",
       " 0.08610000000000007,\n",
       " 0.08710000000000007,\n",
       " 0.08810000000000007,\n",
       " 0.08910000000000007,\n",
       " 0.09010000000000007,\n",
       " 0.09110000000000007,\n",
       " 0.09210000000000007,\n",
       " 0.09310000000000007,\n",
       " 0.09410000000000007,\n",
       " 0.09510000000000007,\n",
       " 0.09610000000000007,\n",
       " 0.09710000000000008,\n",
       " 0.09810000000000008,\n",
       " 0.09910000000000008]"
      ]
     },
     "execution_count": 23,
     "metadata": {},
     "output_type": "execute_result"
    }
   ],
   "source": [
    "tuning_grid"
   ]
  },
  {
   "cell_type": "markdown",
   "metadata": {},
   "source": [
    "# Find Alpha Value"
   ]
  },
  {
   "cell_type": "code",
   "execution_count": 18,
   "metadata": {},
   "outputs": [
    {
     "data": {
      "text/plain": [
       "{'alpha': 0.9989}"
      ]
     },
     "execution_count": 18,
     "metadata": {},
     "output_type": "execute_result"
    }
   ],
   "source": [
    "from sklearn.model_selection import GridSearchCV\n",
    "rr = Ridge()\n",
    "tp = {\"alpha\":tuning_grid}\n",
    "cv = GridSearchCV(rr,tp,scoring=\"neg_mean_absolute_error\")\n",
    "cvmodel = cv.fit(X,Y)\n",
    "cvmodel.best_params_"
   ]
  },
  {
   "cell_type": "code",
   "execution_count": 19,
   "metadata": {},
   "outputs": [
    {
     "data": {
      "text/plain": [
       "118.98113627870414"
      ]
     },
     "execution_count": 19,
     "metadata": {},
     "output_type": "execute_result"
    }
   ],
   "source": [
    "from sklearn.linear_model import Ridge\n",
    "rr = Ridge(alpha=0.9989)\n",
    "model = rr.fit(xtrain,ytrain)\n",
    "pred = model.predict(xtest)\n",
    "from sklearn.metrics import mean_absolute_error\n",
    "mean_absolute_error(ytest,pred)"
   ]
  },
  {
   "cell_type": "markdown",
   "metadata": {},
   "source": [
    "# Lasso Regularization"
   ]
  },
  {
   "cell_type": "code",
   "execution_count": 24,
   "metadata": {},
   "outputs": [
    {
     "data": {
      "text/plain": [
       "{'alpha': 0.9989}"
      ]
     },
     "execution_count": 24,
     "metadata": {},
     "output_type": "execute_result"
    }
   ],
   "source": [
    "#Alpha Value\n",
    "from sklearn.linear_model import Lasso\n",
    "lso = Lasso()\n",
    "tp = {\"alpha\":tuning_grid}\n",
    "cv = GridSearchCV(rr,tp,scoring=\"neg_mean_absolute_error\")\n",
    "cvmodel = cv.fit(X,Y)\n",
    "cvmodel.best_params_"
   ]
  },
  {
   "cell_type": "code",
   "execution_count": 21,
   "metadata": {},
   "outputs": [
    {
     "data": {
      "text/plain": [
       "119.25193531680833"
      ]
     },
     "execution_count": 21,
     "metadata": {},
     "output_type": "execute_result"
    }
   ],
   "source": [
    "from sklearn.linear_model import Lasso\n",
    "lso = Lasso()\n",
    "model = lso.fit(xtrain,ytrain)\n",
    "pred = model.predict(xtest)\n",
    "from sklearn.metrics import mean_absolute_error\n",
    "mean_absolute_error(ytest,pred)"
   ]
  },
  {
   "cell_type": "code",
   "execution_count": 22,
   "metadata": {},
   "outputs": [
    {
     "data": {
      "text/plain": [
       "119.25109468957383"
      ]
     },
     "execution_count": 22,
     "metadata": {},
     "output_type": "execute_result"
    }
   ],
   "source": [
    "from sklearn.linear_model import Lasso\n",
    "lso = Lasso(alpha=0.9989)\n",
    "model = lso.fit(xtrain,ytrain)\n",
    "pred = model.predict(xtest)\n",
    "from sklearn.metrics import mean_absolute_error\n",
    "mean_absolute_error(ytest,pred)"
   ]
  },
  {
   "cell_type": "code",
   "execution_count": null,
   "metadata": {},
   "outputs": [],
   "source": []
  }
 ],
 "metadata": {
  "kernelspec": {
   "display_name": "Python 3",
   "language": "python",
   "name": "python3"
  },
  "language_info": {
   "codemirror_mode": {
    "name": "ipython",
    "version": 3
   },
   "file_extension": ".py",
   "mimetype": "text/x-python",
   "name": "python",
   "nbconvert_exporter": "python",
   "pygments_lexer": "ipython3",
   "version": "3.8.5"
  }
 },
 "nbformat": 4,
 "nbformat_minor": 4
}
